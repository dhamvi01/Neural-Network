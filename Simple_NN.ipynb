{
  "nbformat": 4,
  "nbformat_minor": 0,
  "metadata": {
    "colab": {
      "name": "Simple NN.ipynb",
      "provenance": [],
      "authorship_tag": "ABX9TyPe3VHPs3C1p3fn4gBin8w8",
      "include_colab_link": true
    },
    "kernelspec": {
      "name": "python3",
      "display_name": "Python 3"
    }
  },
  "cells": [
    {
      "cell_type": "markdown",
      "metadata": {
        "id": "view-in-github",
        "colab_type": "text"
      },
      "source": [
        "<a href=\"https://colab.research.google.com/github/dhamvi01/Neural-Network/blob/main/Simple_NN.ipynb\" target=\"_parent\"><img src=\"https://colab.research.google.com/assets/colab-badge.svg\" alt=\"Open In Colab\"/></a>"
      ]
    },
    {
      "cell_type": "markdown",
      "metadata": {
        "id": "YtQga5h15iHC"
      },
      "source": [
        "#### importing dependancies"
      ]
    },
    {
      "cell_type": "code",
      "metadata": {
        "id": "jNLhGPo7UDZE"
      },
      "source": [
        "import numpy as np"
      ],
      "execution_count": 1,
      "outputs": []
    },
    {
      "cell_type": "markdown",
      "metadata": {
        "id": "U9J1RCP75uNn"
      },
      "source": [
        "#### The activation function(sigmoid)"
      ]
    },
    {
      "cell_type": "code",
      "metadata": {
        "id": "miYAlFodUMhO"
      },
      "source": [
        "def activation(x):\n",
        "    return 1 / (1 + np.exp(-x))"
      ],
      "execution_count": 2,
      "outputs": []
    },
    {
      "cell_type": "markdown",
      "metadata": {
        "id": "T5WT0vOf56W-"
      },
      "source": [
        "#### A 2 x 1 matrix of randomly generated weights in the range -1 to 1"
      ]
    },
    {
      "cell_type": "code",
      "metadata": {
        "id": "WKLCUq3sUaaX"
      },
      "source": [
        "weights = np.random.uniform(-1,1,size = (2, 1))"
      ],
      "execution_count": 4,
      "outputs": []
    },
    {
      "cell_type": "markdown",
      "metadata": {
        "id": "f5IxGdj06QUv"
      },
      "source": [
        "#### The training set divided into input and output. Notice that\n",
        "#### we are trying to train our neural network to predict the output"
      ]
    },
    {
      "cell_type": "code",
      "metadata": {
        "id": "70lswJ-wUc7m"
      },
      "source": [
        "training_inputs = np.array([[0, 0, 1, 1, 0, 1]]).reshape(3, 2)\n",
        "training_outputs = np.array([[0, 1, 1]]).reshape(3,1)"
      ],
      "execution_count": 6,
      "outputs": []
    },
    {
      "cell_type": "markdown",
      "metadata": {
        "id": "CtordND26kAD"
      },
      "source": [
        "#### Model training"
      ]
    },
    {
      "cell_type": "code",
      "metadata": {
        "id": "ToWBvwPgUffM"
      },
      "source": [
        "for i in range(15000):\n",
        "    # forward pass\n",
        "    dot_product = np.dot(training_inputs, weights)\n",
        "    output = activation(dot_product)\n",
        "    # backward pass.\n",
        "    temp2 = -(training_outputs - output) * output * (1 - output)\n",
        "    adj = np.dot(training_inputs.transpose(), temp2)\n",
        "    # 0.5 is the learning rate.\n",
        "    weights = weights - 0.5 * adj"
      ],
      "execution_count": 7,
      "outputs": []
    },
    {
      "cell_type": "markdown",
      "metadata": {
        "id": "CQO2f-LJ6439"
      },
      "source": [
        "#### The test dataset"
      ]
    },
    {
      "cell_type": "code",
      "metadata": {
        "id": "tbfNcrA5VYM9",
        "outputId": "a7d7673f-8ef0-447c-aa57-a310a618a192",
        "colab": {
          "base_uri": "https://localhost:8080/",
          "height": 34
        }
      },
      "source": [
        "test_input = np.array([1, 0])\n",
        "test_output = activation(np.dot(test_input, weights))\n",
        "# OR of 1, 0 is 1\n",
        "print(test_output)"
      ],
      "execution_count": 8,
      "outputs": [
        {
          "output_type": "stream",
          "text": [
            "[0.70185401]\n"
          ],
          "name": "stdout"
        }
      ]
    },
    {
      "cell_type": "code",
      "metadata": {
        "id": "-MlQPIzl698F"
      },
      "source": [
        ""
      ],
      "execution_count": null,
      "outputs": []
    }
  ]
}